{
 "cells": [
  {
   "cell_type": "code",
   "execution_count": 5,
   "metadata": {},
   "outputs": [],
   "source": [
    "import tensorflow as tf\n",
    "from tensorflow.keras.datasets import imdb\n",
    "from tensorflow.keras.models import Sequential\n",
    "from tensorflow.keras.layers import Dense, LSTM, Embedding\n",
    "from tensorflow.keras.preprocessing import sequence\n",
    "tf.random.set_seed(7)\n",
    "\n",
    "from datetime import datetime"
   ]
  },
  {
   "cell_type": "code",
   "execution_count": 2,
   "metadata": {},
   "outputs": [
    {
     "name": "stdout",
     "output_type": "stream",
     "text": [
      "Downloading data from https://storage.googleapis.com/tensorflow/tf-keras-datasets/imdb.npz\n",
      "17464789/17464789 [==============================] - 0s 0us/step\n"
     ]
    }
   ],
   "source": [
    "top_words = 5000\n",
    "(X_train, y_train), (X_test, y_test) = imdb.load_data(num_words=top_words)"
   ]
  },
  {
   "cell_type": "code",
   "execution_count": 3,
   "metadata": {},
   "outputs": [],
   "source": [
    "max_review_length = 500\n",
    "X_train = sequence.pad_sequences(X_train, maxlen=max_review_length)\n",
    "X_test = sequence.pad_sequences(X_test, maxlen=max_review_length)"
   ]
  },
  {
   "cell_type": "code",
   "execution_count": 7,
   "metadata": {},
   "outputs": [
    {
     "name": "stdout",
     "output_type": "stream",
     "text": [
      "Model: \"sequential_2\"\n",
      "_________________________________________________________________\n",
      " Layer (type)                Output Shape              Param #   \n",
      "=================================================================\n",
      " embedding_2 (Embedding)     (None, 500, 32)           160000    \n",
      "                                                                 \n",
      " lstm_2 (LSTM)               (None, 100)               53200     \n",
      "                                                                 \n",
      " dense_2 (Dense)             (None, 1)                 101       \n",
      "                                                                 \n",
      "=================================================================\n",
      "Total params: 213301 (833.21 KB)\n",
      "Trainable params: 213301 (833.21 KB)\n",
      "Non-trainable params: 0 (0.00 Byte)\n",
      "_________________________________________________________________\n",
      "None\n",
      "Epoch 1/3\n",
      "391/391 [==============================] - 94s 238ms/step - loss: 0.4856 - accuracy: 0.7615 - val_loss: 0.3329 - val_accuracy: 0.8621\n",
      "Epoch 2/3\n",
      "391/391 [==============================] - 93s 237ms/step - loss: 0.3220 - accuracy: 0.8685 - val_loss: 0.3358 - val_accuracy: 0.8673\n",
      "Epoch 3/3\n",
      "391/391 [==============================] - 94s 241ms/step - loss: 0.2859 - accuracy: 0.8821 - val_loss: 0.3259 - val_accuracy: 0.8677\n"
     ]
    }
   ],
   "source": [
    "start_time = datetime.now()\n",
    "embedding_vector_length = 32\n",
    "model = Sequential()\n",
    "model.add(Embedding(top_words, embedding_vector_length, input_length=max_review_length))\n",
    "model.add(LSTM(100))\n",
    "model.add(Dense(1, activation='sigmoid'))\n",
    "model.compile(loss='binary_crossentropy', optimizer='adam', metrics=['accuracy'])\n",
    "print(model.summary())\n",
    "model.fit(X_train, y_train, validation_data=(X_test, y_test), epochs=3, batch_size=64)\n",
    "end_time = datetime.now()\n",
    "\n",
    "LSTM_time = (end_time - start_time).total_seconds()"
   ]
  },
  {
   "cell_type": "code",
   "execution_count": 8,
   "metadata": {},
   "outputs": [
    {
     "name": "stdout",
     "output_type": "stream",
     "text": [
      "LSTM Training Time:  280.970739\n",
      "LSTM Accuracy: 86.77%\n"
     ]
    }
   ],
   "source": [
    "print(\"LSTM Training Time: \", LSTM_time)\n",
    "LSTM_scores = model.evaluate(X_test, y_test, verbose=0)\n",
    "print(\"LSTM Accuracy: %.2f%%\" % (LSTM_scores[1]*100))"
   ]
  },
  {
   "cell_type": "code",
   "execution_count": 9,
   "metadata": {},
   "outputs": [],
   "source": [
    "from tensorflow.keras.layers import SimpleRNN\n",
    "from tensorflow.keras.layers import GRU"
   ]
  },
  {
   "cell_type": "code",
   "execution_count": 10,
   "metadata": {},
   "outputs": [
    {
     "name": "stdout",
     "output_type": "stream",
     "text": [
      "Model: \"sequential_3\"\n",
      "_________________________________________________________________\n",
      " Layer (type)                Output Shape              Param #   \n",
      "=================================================================\n",
      " embedding_3 (Embedding)     (None, 500, 32)           160000    \n",
      "                                                                 \n",
      " simple_rnn (SimpleRNN)      (None, 100)               13300     \n",
      "                                                                 \n",
      " dense_3 (Dense)             (None, 1)                 101       \n",
      "                                                                 \n",
      "=================================================================\n",
      "Total params: 173401 (677.35 KB)\n",
      "Trainable params: 173401 (677.35 KB)\n",
      "Non-trainable params: 0 (0.00 Byte)\n",
      "_________________________________________________________________\n",
      "None\n",
      "Epoch 1/3\n",
      "391/391 [==============================] - 26s 66ms/step - loss: 0.6538 - accuracy: 0.6123 - val_loss: 0.6492 - val_accuracy: 0.5972\n",
      "Epoch 2/3\n",
      "391/391 [==============================] - 25s 65ms/step - loss: 0.6171 - accuracy: 0.6509 - val_loss: 0.6049 - val_accuracy: 0.6556\n",
      "Epoch 3/3\n",
      "391/391 [==============================] - 25s 65ms/step - loss: 0.5376 - accuracy: 0.7316 - val_loss: 0.5271 - val_accuracy: 0.7405\n"
     ]
    }
   ],
   "source": [
    "# SimpleRNN Implementation\n",
    "start_time = datetime.now()\n",
    "model = Sequential()\n",
    "model.add(Embedding(top_words, embedding_vector_length, input_length=max_review_length))\n",
    "model.add(SimpleRNN(100))\n",
    "model.add(Dense(1, activation='sigmoid'))\n",
    "model.compile(loss='binary_crossentropy', optimizer='adam', metrics=['accuracy'])\n",
    "print(model.summary())\n",
    "model.fit(X_train, y_train, validation_data=(X_test, y_test), epochs=3, batch_size=64)\n",
    "\n",
    "end_time = datetime.now()\n",
    "\n",
    "RNN_time = (end_time - start_time).total_seconds()"
   ]
  },
  {
   "cell_type": "code",
   "execution_count": 11,
   "metadata": {},
   "outputs": [
    {
     "name": "stdout",
     "output_type": "stream",
     "text": [
      "RNN Training Time:  77.102158\n",
      "RNN Accuracy: 74.05%\n"
     ]
    }
   ],
   "source": [
    "print(\"RNN Training Time: \", RNN_time)\n",
    "RNN_scores = model.evaluate(X_test, y_test, verbose=0)\n",
    "print(\"RNN Accuracy: %.2f%%\" % (RNN_scores[1]*100))"
   ]
  },
  {
   "cell_type": "code",
   "execution_count": 13,
   "metadata": {},
   "outputs": [
    {
     "name": "stdout",
     "output_type": "stream",
     "text": [
      "Model: \"sequential_5\"\n",
      "_________________________________________________________________\n",
      " Layer (type)                Output Shape              Param #   \n",
      "=================================================================\n",
      " embedding_5 (Embedding)     (None, 500, 32)           160000    \n",
      "                                                                 \n",
      " gru_1 (GRU)                 (None, 100)               40200     \n",
      "                                                                 \n",
      " dense_5 (Dense)             (None, 1)                 101       \n",
      "                                                                 \n",
      "=================================================================\n",
      "Total params: 200301 (782.43 KB)\n",
      "Trainable params: 200301 (782.43 KB)\n",
      "Non-trainable params: 0 (0.00 Byte)\n",
      "_________________________________________________________________\n",
      "None\n",
      "Epoch 1/3\n",
      "391/391 [==============================] - 79s 200ms/step - loss: 0.4787 - accuracy: 0.7594 - val_loss: 0.3259 - val_accuracy: 0.8593\n",
      "Epoch 2/3\n",
      "391/391 [==============================] - 78s 199ms/step - loss: 0.3531 - accuracy: 0.8431 - val_loss: 0.3231 - val_accuracy: 0.8636\n",
      "Epoch 3/3\n",
      "391/391 [==============================] - 78s 198ms/step - loss: 0.2601 - accuracy: 0.8974 - val_loss: 0.3153 - val_accuracy: 0.8721\n"
     ]
    }
   ],
   "source": [
    "# GRU Implementation\n",
    "start_time = datetime.now()\n",
    "model = Sequential()\n",
    "model.add(Embedding(top_words, embedding_vector_length, input_length=max_review_length))\n",
    "model.add(GRU(100))\n",
    "model.add(Dense(1, activation='sigmoid'))\n",
    "model.compile(loss='binary_crossentropy', optimizer='adam', metrics=['accuracy'])\n",
    "print(model.summary())\n",
    "model.fit(X_train, y_train, validation_data=(X_test, y_test), epochs=3, batch_size=64)\n",
    "\n",
    "end_time = datetime.now()\n",
    "\n",
    "GRU_time = (end_time - start_time).total_seconds()"
   ]
  },
  {
   "cell_type": "code",
   "execution_count": 14,
   "metadata": {},
   "outputs": [
    {
     "name": "stdout",
     "output_type": "stream",
     "text": [
      "GRU Training Time:  234.370257\n",
      "GRU Accuracy: 87.21%\n"
     ]
    }
   ],
   "source": [
    "print(\"GRU Training Time: \", GRU_time)\n",
    "GRU_scores = model.evaluate(X_test, y_test, verbose=0)\n",
    "print(\"GRU Accuracy: %.2f%%\" % (GRU_scores[1]*100))"
   ]
  }
 ],
 "metadata": {
  "kernelspec": {
   "display_name": "Python 3",
   "language": "python",
   "name": "python3"
  },
  "language_info": {
   "codemirror_mode": {
    "name": "ipython",
    "version": 3
   },
   "file_extension": ".py",
   "mimetype": "text/x-python",
   "name": "python",
   "nbconvert_exporter": "python",
   "pygments_lexer": "ipython3",
   "version": "3.8.10"
  }
 },
 "nbformat": 4,
 "nbformat_minor": 2
}
